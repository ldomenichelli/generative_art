{
 "cells": [
  {
   "cell_type": "markdown",
   "id": "73a3370a-879c-4fc9-b0de-c4dc7e94acde",
   "metadata": {},
   "source": [
    "## Polynomial attractors"
   ]
  },
  {
   "cell_type": "markdown",
   "id": "1c673028-cdf0-4fc5-ba28-233c62a10454",
   "metadata": {},
   "source": [
    "Possible coefficients: \n",
    "->GLXOESFTTPSV\n",
    "->MCRBIPOPHTBN\n",
    "->VBWNBDELYHUL\n",
    "->FIRCDERRPVLD \n",
    "->QFFVSLMJJCCR\n",
    "->LUFBBFISGJYS\n",
    "->EJYDREGLYQPV\n",
    "->HIYIWHOKNVCG\n",
    "->MSSSRRPADDSO\n",
    "->OIHVGHAHGYRK\n",
    "->RALLTIOBDULT\n",
    "->WJJFXGXHTRPG."
   ]
  },
  {
   "cell_type": "code",
   "execution_count": null,
   "id": "c346cb54-74be-49c8-a04a-e16a7dcbbfb4",
   "metadata": {},
   "outputs": [],
   "source": [
    "import numpy as np\n",
    "import matplotlib.pyplot as plt\n",
    "from numba import njit"
   ]
  },
  {
   "cell_type": "code",
   "execution_count": null,
   "id": "7a4ee8c9-2339-4f98-83d5-d3efa398cdf0",
   "metadata": {},
   "outputs": [],
   "source": [
    "def decode_code(code: str) -> np.ndarray:\n",
    "    code = code.strip().upper()\n",
    "    if len(code) != 12:\n",
    "        raise ValueError(\"Parameter code must have 12 letters (A..Y).\")\n",
    "    try:\n",
    "        return np.array([VALUES[c] for c in code], dtype=np.float64)\n",
    "    except KeyError as e:\n",
    "        raise ValueError(f\"Invalid letter {e.args[0]!r}; only A..Y are allowed.\") from None\n",
    "\n",
    "def step(x, y, a):\n",
    "    x_next = a[0] + a[1]*x + a[2]*x*x + a[3]*x*y + a[4]*y + a[5]*y*y\n",
    "    y_next = a[6] + a[7]*x + a[8]*x*x + a[9]*x*y + a[10]*y + a[11]*y*y\n",
    "    return x_next, y_next\n"
   ]
  },
  {
   "cell_type": "code",
   "execution_count": null,
   "id": "b9dbfdbe-873a-41d7-86f4-f9d920b14974",
   "metadata": {},
   "outputs": [],
   "source": [
    "\n",
    "def estimate_bounds(a, N=200_000, burn=2_000, x0=0.1, y0=0.1, clip=1e-3):\n",
    "    \"\"\"Run a short orbit to get robust bounds for the histogram window.\"\"\"\n",
    "    xs = np.empty(N, dtype=np.float64)\n",
    "    ys = np.empty(N, dtype=np.float64)\n",
    "    x, y = x0, y0\n",
    "    for n in range(N + burn):\n",
    "        x, y = step(x, y, a)\n",
    "        if n >= burn:\n",
    "            i = n - burn\n",
    "            xs[i] = x; ys[i] = y\n",
    "    xmin, xmax = np.quantile(xs, [clip, 1-clip])\n",
    "    ymin, ymax = np.quantile(ys, [clip, 1-clip])\n",
    "    # small padding\n",
    "    dx = 0.05*(xmax - xmin); dy = 0.05*(ymax - ymin)\n",
    "    return xmin - dx, xmax + dx, ymin - dy, ymax + dy\n",
    "\n",
    "if NUMBA:\n",
    "    @njit(fastmath=True, cache=True)\n",
    "    def accumulate_hist(a, x0, y0, xmin, xmax, ymin, ymax, bins, n_iter, burn):\n",
    "        H = np.zeros((bins, bins), np.uint32)\n",
    "        x, y = x0, y0\n",
    "        sx = (bins - 1.0) / (xmax - xmin)\n",
    "        sy = (bins - 1.0) / (ymax - ymin)\n",
    "        for i in range(n_iter):\n",
    "            x, y = (\n",
    "                a[0] + a[1]*x + a[2]*x*x + a[3]*x*y + a[4]*y + a[5]*y*y,\n",
    "                a[6] + a[7]*x + a[8]*x*x + a[9]*x*y + a[10]*y + a[11]*y*y,\n",
    "            )\n",
    "            if i >= burn:\n",
    "                ix = int((x - xmin) * sx)\n",
    "                iy = int((y - ymin) * sy)\n",
    "                if 0 <= ix < bins and 0 <= iy < bins:\n",
    "                    H[ix, iy] += 1\n",
    "        return H\n",
    "else:\n",
    "    def accumulate_hist(a, x0, y0, xmin, xmax, ymin, ymax, bins, n_iter, burn):\n",
    "        H = np.zeros((bins, bins), np.uint32)\n",
    "        x, y = x0, y0\n",
    "        sx = (bins - 1.0) / (xmax - xmin)\n",
    "        sy = (bins - 1.0) / (ymax - ymin)\n",
    "        for i in range(n_iter):\n",
    "            x, y = step(x, y, a)\n",
    "            if i >= burn:\n",
    "                ix = int((x - xmin) * sx)\n",
    "                iy = int((y - ymin) * sy)\n",
    "                if 0 <= ix < bins and 0 <= iy < bins:\n",
    "                    H[ix, iy] += 1\n",
    "        return H"
   ]
  },
  {
   "cell_type": "code",
   "execution_count": 3,
   "id": "7d92ed92-b89a-40b9-bd96-377c78f15bfd",
   "metadata": {},
   "outputs": [],
   "source": [
    "def render_polynomial(code=\"FIRCDERRPVLD\",\n",
    "                      n_iter=5_000_000, burn=5_000,\n",
    "                      bins=2048, gamma=0.7,\n",
    "                      x0=0.1, y0=0.1, clip=1e-3,\n",
    "                      cmap=\"magma\"):\n",
    "    \"\"\"\n",
    "    Render a polynomial (quadratic) attractor.\n",
    "\n",
    "    Parameters\n",
    "    ----------\n",
    "    code   : 12-letter code (A..Y). Example: \"FIRCDERRPVLD\".\n",
    "    n_iter : total iterations (increase for crisper detail).\n",
    "    burn   : iterations discarded as transient.\n",
    "    bins   : histogram resolution (e.g., 1024..4096).\n",
    "    gamma  : tone curve for log-density image (lower -> brighter filaments).\n",
    "    x0,y0  : initial point.\n",
    "    clip   : quantile clipping when estimating bounds.\n",
    "    cmap   : matplotlib colormap.\n",
    "    \"\"\"\n",
    "    a = decode_code(code)\n",
    "    xmin, xmax, ymin, ymax = estimate_bounds(a, clip=clip, x0=x0, y0=y0)\n",
    "    H = accumulate_hist(a, x0, y0, xmin, xmax, ymin, ymax,\n",
    "                        bins=bins, n_iter=n_iter, burn=burn)\n",
    "\n",
    "    D = np.log1p(H.astype(np.float64))\n",
    "    D /= D.max() if D.max() > 0 else 1.0\n",
    "    D = D**(1.0 - gamma)  # simple contrast curve\n",
    "\n",
    "    fig = plt.figure(figsize=(8, 8), dpi=200, facecolor=\"white\")\n",
    "    ax = plt.axes([0,0,1,1], frameon=False)  # clean borderless canvas\n",
    "    ax.axis(\"off\")\n",
    "    ax.imshow(D.T, origin=\"lower\",\n",
    "              extent=(xmin, xmax, ymin, ymax),\n",
    "              interpolation=\"bilinear\", cmap=cmap)\n",
    "    plt.savefig(\"attractor\") \n",
    "    plt.show()\n",
    "    return a  \n"
   ]
  },
  {
   "cell_type": "code",
   "execution_count": null,
   "id": "4b758214-9bc3-473b-a1d5-34c14a3bf1f6",
   "metadata": {},
   "outputs": [],
   "source": [
    "\n",
    "coeffs = render_polynomial(code=\"LUFBBFISGJYS\",\n",
    "                           n_iter=100_000_000,  \n",
    "                           burn=12_000,\n",
    "                           bins=15_000,\n",
    "                           gamma=0.65,\n",
    "                           cmap=\"magma\")\n",
    "print(\"a0..a11 =\", coeffs.round(3))"
   ]
  }
 ],
 "metadata": {
  "kernelspec": {
   "display_name": "Python 3 (ipykernel)",
   "language": "python",
   "name": "python3"
  },
  "language_info": {
   "codemirror_mode": {
    "name": "ipython",
    "version": 3
   },
   "file_extension": ".py",
   "mimetype": "text/x-python",
   "name": "python",
   "nbconvert_exporter": "python",
   "pygments_lexer": "ipython3",
   "version": "3.10.12"
  }
 },
 "nbformat": 4,
 "nbformat_minor": 5
}
